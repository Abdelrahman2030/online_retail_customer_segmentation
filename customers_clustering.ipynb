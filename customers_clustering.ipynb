{
 "cells": [
  {
   "cell_type": "code",
   "execution_count": 2,
   "metadata": {},
   "outputs": [],
   "source": [
    "import warnings\n",
    "\n",
    "import matplotlib.pyplot as plt\n",
    "import numpy as np\n",
    "import pandas as pd\n",
    "import plotly.express as px\n",
    "import seaborn as sns\n",
    "\n",
    "warnings.filterwarnings(\"ignore\")\n",
    "colors = sns.color_palette(\"Accent\")"
   ]
  },
  {
   "cell_type": "markdown",
   "metadata": {},
   "source": [
    "# Exploration Findings\n",
    "\n",
    "1. **Dataset Overview**\n",
    "   - The data has `4372  rows × 14 columns`\n",
    "   \n",
    "3. **Preprocessing notes**\n",
    "   - Change `CustomerID` to object\n",
    "   - Change `MostFrequentHour` to object\n",
    "   - Remove the negative values in the `TotalSpent`\n",
    "\n",
    "4. **Feature engineering notes**\n",
    "\n"
   ]
  },
  {
   "cell_type": "markdown",
   "metadata": {},
   "source": [
    "## Loading data"
   ]
  },
  {
   "cell_type": "code",
   "execution_count": 42,
   "metadata": {},
   "outputs": [],
   "source": [
    "df = pd.read_csv(\"customers_data.csv\")\n",
    "invioce_df = pd.read_csv(\"data.csv\", encoding=\"ISO-8859-1\")  # invoice data"
   ]
  },
  {
   "cell_type": "code",
   "execution_count": 44,
   "metadata": {},
   "outputs": [
    {
     "data": {
      "text/html": [
       "<div>\n",
       "<style scoped>\n",
       "    .dataframe tbody tr th:only-of-type {\n",
       "        vertical-align: middle;\n",
       "    }\n",
       "\n",
       "    .dataframe tbody tr th {\n",
       "        vertical-align: top;\n",
       "    }\n",
       "\n",
       "    .dataframe thead th {\n",
       "        text-align: right;\n",
       "    }\n",
       "</style>\n",
       "<table border=\"1\" class=\"dataframe\">\n",
       "  <thead>\n",
       "    <tr style=\"text-align: right;\">\n",
       "      <th></th>\n",
       "      <th>InvoiceNo</th>\n",
       "      <th>StockCode</th>\n",
       "      <th>Description</th>\n",
       "      <th>Quantity</th>\n",
       "      <th>InvoiceDate</th>\n",
       "      <th>UnitPrice</th>\n",
       "      <th>CustomerID</th>\n",
       "      <th>Country</th>\n",
       "      <th>TotalPrice</th>\n",
       "      <th>DayOfWeek</th>\n",
       "      <th>Hour</th>\n",
       "      <th>Canceled</th>\n",
       "    </tr>\n",
       "  </thead>\n",
       "  <tbody>\n",
       "    <tr>\n",
       "      <th>0</th>\n",
       "      <td>536365</td>\n",
       "      <td>85123A</td>\n",
       "      <td>WHITE HANGING HEART T-LIGHT HOLDER</td>\n",
       "      <td>6</td>\n",
       "      <td>2010-12-01 08:26:00</td>\n",
       "      <td>2.55</td>\n",
       "      <td>17850</td>\n",
       "      <td>United Kingdom</td>\n",
       "      <td>15.30</td>\n",
       "      <td>Wednesday</td>\n",
       "      <td>8</td>\n",
       "      <td>0</td>\n",
       "    </tr>\n",
       "    <tr>\n",
       "      <th>1</th>\n",
       "      <td>536365</td>\n",
       "      <td>71053</td>\n",
       "      <td>WHITE METAL LANTERN</td>\n",
       "      <td>6</td>\n",
       "      <td>2010-12-01 08:26:00</td>\n",
       "      <td>3.39</td>\n",
       "      <td>17850</td>\n",
       "      <td>United Kingdom</td>\n",
       "      <td>20.34</td>\n",
       "      <td>Wednesday</td>\n",
       "      <td>8</td>\n",
       "      <td>0</td>\n",
       "    </tr>\n",
       "    <tr>\n",
       "      <th>2</th>\n",
       "      <td>536365</td>\n",
       "      <td>84406B</td>\n",
       "      <td>CREAM CUPID HEARTS COAT HANGER</td>\n",
       "      <td>8</td>\n",
       "      <td>2010-12-01 08:26:00</td>\n",
       "      <td>2.75</td>\n",
       "      <td>17850</td>\n",
       "      <td>United Kingdom</td>\n",
       "      <td>22.00</td>\n",
       "      <td>Wednesday</td>\n",
       "      <td>8</td>\n",
       "      <td>0</td>\n",
       "    </tr>\n",
       "    <tr>\n",
       "      <th>3</th>\n",
       "      <td>536365</td>\n",
       "      <td>84029G</td>\n",
       "      <td>KNITTED UNION FLAG HOT WATER BOTTLE</td>\n",
       "      <td>6</td>\n",
       "      <td>2010-12-01 08:26:00</td>\n",
       "      <td>3.39</td>\n",
       "      <td>17850</td>\n",
       "      <td>United Kingdom</td>\n",
       "      <td>20.34</td>\n",
       "      <td>Wednesday</td>\n",
       "      <td>8</td>\n",
       "      <td>0</td>\n",
       "    </tr>\n",
       "    <tr>\n",
       "      <th>4</th>\n",
       "      <td>536365</td>\n",
       "      <td>84029E</td>\n",
       "      <td>RED WOOLLY HOTTIE WHITE HEART.</td>\n",
       "      <td>6</td>\n",
       "      <td>2010-12-01 08:26:00</td>\n",
       "      <td>3.39</td>\n",
       "      <td>17850</td>\n",
       "      <td>United Kingdom</td>\n",
       "      <td>20.34</td>\n",
       "      <td>Wednesday</td>\n",
       "      <td>8</td>\n",
       "      <td>0</td>\n",
       "    </tr>\n",
       "  </tbody>\n",
       "</table>\n",
       "</div>"
      ],
      "text/plain": [
       "  InvoiceNo StockCode                          Description  Quantity  \\\n",
       "0    536365    85123A   WHITE HANGING HEART T-LIGHT HOLDER         6   \n",
       "1    536365     71053                  WHITE METAL LANTERN         6   \n",
       "2    536365    84406B       CREAM CUPID HEARTS COAT HANGER         8   \n",
       "3    536365    84029G  KNITTED UNION FLAG HOT WATER BOTTLE         6   \n",
       "4    536365    84029E       RED WOOLLY HOTTIE WHITE HEART.         6   \n",
       "\n",
       "          InvoiceDate  UnitPrice CustomerID         Country  TotalPrice  \\\n",
       "0 2010-12-01 08:26:00       2.55      17850  United Kingdom       15.30   \n",
       "1 2010-12-01 08:26:00       3.39      17850  United Kingdom       20.34   \n",
       "2 2010-12-01 08:26:00       2.75      17850  United Kingdom       22.00   \n",
       "3 2010-12-01 08:26:00       3.39      17850  United Kingdom       20.34   \n",
       "4 2010-12-01 08:26:00       3.39      17850  United Kingdom       20.34   \n",
       "\n",
       "   DayOfWeek Hour  Canceled  \n",
       "0  Wednesday    8         0  \n",
       "1  Wednesday    8         0  \n",
       "2  Wednesday    8         0  \n",
       "3  Wednesday    8         0  \n",
       "4  Wednesday    8         0  "
      ]
     },
     "execution_count": 44,
     "metadata": {},
     "output_type": "execute_result"
    }
   ],
   "source": [
    "# Change data types\n",
    "invioce_df[\"CustomerID\"] = invioce_df[\"CustomerID\"].dropna().astype(\"int\").astype(\"str\")\n",
    "invioce_df[\"InvoiceDate\"] = pd.to_datetime(invioce_df[\"InvoiceDate\"])\n",
    "\n",
    "# We will drop the values of cusomerID\n",
    "invioce_df = invioce_df.dropna(subset=[\"CustomerID\"])\n",
    "invioce_df = invioce_df.drop_duplicates()\n",
    "\n",
    "# Add TotalPrice column\n",
    "TotalPrice = []\n",
    "for index in range(len(invioce_df)):\n",
    "    TotalPrice.append(\n",
    "        invioce_df[\"Quantity\"].iloc[index] * invioce_df[\"UnitPrice\"].iloc[index]\n",
    "    )\n",
    "\n",
    "invioce_df[\"TotalPrice\"] = TotalPrice\n",
    "\n",
    "# Add day of the week column\n",
    "invioce_df[\"DayOfWeek\"] = invioce_df[\"InvoiceDate\"].dt.day_name()\n",
    "invioce_df[\"Hour\"] = invioce_df[\"InvoiceDate\"].dt.hour.astype(str)\n",
    "\n",
    "# Add canceled column\n",
    "invioce_df[\"Canceled\"] = invioce_df[\"InvoiceNo\"].apply(lambda x: 1 if \"C\" in x else 0)\n",
    "\n",
    "invioce_df.head()"
   ]
  },
  {
   "cell_type": "code",
   "execution_count": 5,
   "metadata": {},
   "outputs": [
    {
     "data": {
      "text/html": [
       "<div>\n",
       "<style scoped>\n",
       "    .dataframe tbody tr th:only-of-type {\n",
       "        vertical-align: middle;\n",
       "    }\n",
       "\n",
       "    .dataframe tbody tr th {\n",
       "        vertical-align: top;\n",
       "    }\n",
       "\n",
       "    .dataframe thead th {\n",
       "        text-align: right;\n",
       "    }\n",
       "</style>\n",
       "<table border=\"1\" class=\"dataframe\">\n",
       "  <thead>\n",
       "    <tr style=\"text-align: right;\">\n",
       "      <th></th>\n",
       "      <th>CustomerID</th>\n",
       "      <th>TotalOrders</th>\n",
       "      <th>TotalSpent</th>\n",
       "      <th>AverageSpent</th>\n",
       "      <th>ItemsBought</th>\n",
       "      <th>CanceledInvoices</th>\n",
       "      <th>MostFrequentDay</th>\n",
       "      <th>MostFrequentHour</th>\n",
       "      <th>ProductDiversity</th>\n",
       "      <th>FirstPurchase</th>\n",
       "      <th>LastPurchase</th>\n",
       "      <th>Country</th>\n",
       "      <th>LifeTime</th>\n",
       "      <th>Recency</th>\n",
       "    </tr>\n",
       "  </thead>\n",
       "  <tbody>\n",
       "    <tr>\n",
       "      <th>0</th>\n",
       "      <td>12346</td>\n",
       "      <td>1</td>\n",
       "      <td>0.00</td>\n",
       "      <td>0.000000</td>\n",
       "      <td>0</td>\n",
       "      <td>1</td>\n",
       "      <td>Tuesday</td>\n",
       "      <td>10</td>\n",
       "      <td>1</td>\n",
       "      <td>2011-01-18 10:01:00</td>\n",
       "      <td>2011-01-18 10:17:00</td>\n",
       "      <td>United Kingdom</td>\n",
       "      <td>0</td>\n",
       "      <td>325</td>\n",
       "    </tr>\n",
       "    <tr>\n",
       "      <th>1</th>\n",
       "      <td>12347</td>\n",
       "      <td>7</td>\n",
       "      <td>4310.00</td>\n",
       "      <td>23.681319</td>\n",
       "      <td>2458</td>\n",
       "      <td>0</td>\n",
       "      <td>Tuesday</td>\n",
       "      <td>14</td>\n",
       "      <td>103</td>\n",
       "      <td>2010-12-07 14:57:00</td>\n",
       "      <td>2011-12-07 15:52:00</td>\n",
       "      <td>Iceland</td>\n",
       "      <td>365</td>\n",
       "      <td>1</td>\n",
       "    </tr>\n",
       "    <tr>\n",
       "      <th>2</th>\n",
       "      <td>12348</td>\n",
       "      <td>4</td>\n",
       "      <td>1797.24</td>\n",
       "      <td>57.975484</td>\n",
       "      <td>2341</td>\n",
       "      <td>0</td>\n",
       "      <td>Thursday</td>\n",
       "      <td>19</td>\n",
       "      <td>22</td>\n",
       "      <td>2010-12-16 19:09:00</td>\n",
       "      <td>2011-09-25 13:13:00</td>\n",
       "      <td>Finland</td>\n",
       "      <td>282</td>\n",
       "      <td>74</td>\n",
       "    </tr>\n",
       "    <tr>\n",
       "      <th>3</th>\n",
       "      <td>12349</td>\n",
       "      <td>1</td>\n",
       "      <td>1757.55</td>\n",
       "      <td>24.076027</td>\n",
       "      <td>631</td>\n",
       "      <td>0</td>\n",
       "      <td>Monday</td>\n",
       "      <td>9</td>\n",
       "      <td>73</td>\n",
       "      <td>2011-11-21 09:51:00</td>\n",
       "      <td>2011-11-21 09:51:00</td>\n",
       "      <td>Italy</td>\n",
       "      <td>0</td>\n",
       "      <td>18</td>\n",
       "    </tr>\n",
       "    <tr>\n",
       "      <th>4</th>\n",
       "      <td>12350</td>\n",
       "      <td>1</td>\n",
       "      <td>334.40</td>\n",
       "      <td>19.670588</td>\n",
       "      <td>197</td>\n",
       "      <td>0</td>\n",
       "      <td>Wednesday</td>\n",
       "      <td>16</td>\n",
       "      <td>17</td>\n",
       "      <td>2011-02-02 16:01:00</td>\n",
       "      <td>2011-02-02 16:01:00</td>\n",
       "      <td>Norway</td>\n",
       "      <td>0</td>\n",
       "      <td>309</td>\n",
       "    </tr>\n",
       "  </tbody>\n",
       "</table>\n",
       "</div>"
      ],
      "text/plain": [
       "   CustomerID  TotalOrders  TotalSpent  AverageSpent  ItemsBought  \\\n",
       "0       12346            1        0.00      0.000000            0   \n",
       "1       12347            7     4310.00     23.681319         2458   \n",
       "2       12348            4     1797.24     57.975484         2341   \n",
       "3       12349            1     1757.55     24.076027          631   \n",
       "4       12350            1      334.40     19.670588          197   \n",
       "\n",
       "   CanceledInvoices MostFrequentDay  MostFrequentHour  ProductDiversity  \\\n",
       "0                 1         Tuesday                10                 1   \n",
       "1                 0         Tuesday                14               103   \n",
       "2                 0        Thursday                19                22   \n",
       "3                 0          Monday                 9                73   \n",
       "4                 0       Wednesday                16                17   \n",
       "\n",
       "         FirstPurchase         LastPurchase         Country  LifeTime  Recency  \n",
       "0  2011-01-18 10:01:00  2011-01-18 10:17:00  United Kingdom         0      325  \n",
       "1  2010-12-07 14:57:00  2011-12-07 15:52:00         Iceland       365        1  \n",
       "2  2010-12-16 19:09:00  2011-09-25 13:13:00         Finland       282       74  \n",
       "3  2011-11-21 09:51:00  2011-11-21 09:51:00           Italy         0       18  \n",
       "4  2011-02-02 16:01:00  2011-02-02 16:01:00          Norway         0      309  "
      ]
     },
     "execution_count": 5,
     "metadata": {},
     "output_type": "execute_result"
    }
   ],
   "source": [
    "df.head()"
   ]
  },
  {
   "cell_type": "code",
   "execution_count": 45,
   "metadata": {},
   "outputs": [],
   "source": [
    "# Convert MostFrequentHour, CustomerID to object\n",
    "df[\"MostFrequentHour\"] = df[\"MostFrequentHour\"].astype(str)\n",
    "df[\"CustomerID\"] = df[\"CustomerID\"].astype(str)"
   ]
  },
  {
   "cell_type": "code",
   "execution_count": 46,
   "metadata": {},
   "outputs": [
    {
     "name": "stdout",
     "output_type": "stream",
     "text": [
      "<class 'pandas.core.frame.DataFrame'>\n",
      "RangeIndex: 4330 entries, 0 to 4329\n",
      "Data columns (total 15 columns):\n",
      " #   Column            Non-Null Count  Dtype  \n",
      "---  ------            --------------  -----  \n",
      " 0   CustomerID        4330 non-null   object \n",
      " 1   TotalOrders       4330 non-null   int64  \n",
      " 2   TotalSpent        4330 non-null   float64\n",
      " 3   AverageSpent      4330 non-null   float64\n",
      " 4   ItemsBought       4330 non-null   int64  \n",
      " 5   CanceledInvoices  4330 non-null   int64  \n",
      " 6   MostFrequentDay   4330 non-null   object \n",
      " 7   MostFrequentHour  4330 non-null   object \n",
      " 8   ProductDiversity  4330 non-null   int64  \n",
      " 9   FirstPurchase     4330 non-null   object \n",
      " 10  LastPurchase      4330 non-null   object \n",
      " 11  Country           4330 non-null   object \n",
      " 12  LifeTime          4330 non-null   int64  \n",
      " 13  Recency           4330 non-null   int64  \n",
      " 14  RFM               4330 non-null   float64\n",
      "dtypes: float64(3), int64(6), object(6)\n",
      "memory usage: 507.6+ KB\n"
     ]
    }
   ],
   "source": [
    "df.info()"
   ]
  },
  {
   "cell_type": "markdown",
   "metadata": {},
   "source": [
    "## Basic insights"
   ]
  },
  {
   "cell_type": "code",
   "execution_count": 8,
   "metadata": {},
   "outputs": [
    {
     "data": {
      "text/html": [
       "<div>\n",
       "<style scoped>\n",
       "    .dataframe tbody tr th:only-of-type {\n",
       "        vertical-align: middle;\n",
       "    }\n",
       "\n",
       "    .dataframe tbody tr th {\n",
       "        vertical-align: top;\n",
       "    }\n",
       "\n",
       "    .dataframe thead th {\n",
       "        text-align: right;\n",
       "    }\n",
       "</style>\n",
       "<table border=\"1\" class=\"dataframe\">\n",
       "  <thead>\n",
       "    <tr style=\"text-align: right;\">\n",
       "      <th></th>\n",
       "      <th>TotalOrders</th>\n",
       "      <th>TotalSpent</th>\n",
       "      <th>AverageSpent</th>\n",
       "      <th>ItemsBought</th>\n",
       "      <th>CanceledInvoices</th>\n",
       "      <th>ProductDiversity</th>\n",
       "      <th>LifeTime</th>\n",
       "      <th>Recency</th>\n",
       "    </tr>\n",
       "  </thead>\n",
       "  <tbody>\n",
       "    <tr>\n",
       "      <th>count</th>\n",
       "      <td>4330.000000</td>\n",
       "      <td>4330.000000</td>\n",
       "      <td>4330.000000</td>\n",
       "      <td>4330.000000</td>\n",
       "      <td>4330.000000</td>\n",
       "      <td>4330.000000</td>\n",
       "      <td>4330.000000</td>\n",
       "      <td>4330.000000</td>\n",
       "    </tr>\n",
       "    <tr>\n",
       "      <th>mean</th>\n",
       "      <td>3.097229</td>\n",
       "      <td>1914.953479</td>\n",
       "      <td>31.223864</td>\n",
       "      <td>1130.338799</td>\n",
       "      <td>2.012471</td>\n",
       "      <td>61.760277</td>\n",
       "      <td>134.336259</td>\n",
       "      <td>89.347806</td>\n",
       "    </tr>\n",
       "    <tr>\n",
       "      <th>std</th>\n",
       "      <td>6.725555</td>\n",
       "      <td>8255.262801</td>\n",
       "      <td>104.820883</td>\n",
       "      <td>4694.211036</td>\n",
       "      <td>7.334740</td>\n",
       "      <td>85.653043</td>\n",
       "      <td>132.902648</td>\n",
       "      <td>99.125094</td>\n",
       "    </tr>\n",
       "    <tr>\n",
       "      <th>min</th>\n",
       "      <td>-99.000000</td>\n",
       "      <td>0.000000</td>\n",
       "      <td>0.000000</td>\n",
       "      <td>-189.000000</td>\n",
       "      <td>0.000000</td>\n",
       "      <td>1.000000</td>\n",
       "      <td>0.000000</td>\n",
       "      <td>0.000000</td>\n",
       "    </tr>\n",
       "    <tr>\n",
       "      <th>25%</th>\n",
       "      <td>1.000000</td>\n",
       "      <td>299.395000</td>\n",
       "      <td>11.404790</td>\n",
       "      <td>156.250000</td>\n",
       "      <td>0.000000</td>\n",
       "      <td>16.000000</td>\n",
       "      <td>0.000000</td>\n",
       "      <td>16.000000</td>\n",
       "    </tr>\n",
       "    <tr>\n",
       "      <th>50%</th>\n",
       "      <td>2.000000</td>\n",
       "      <td>652.570000</td>\n",
       "      <td>17.015341</td>\n",
       "      <td>369.500000</td>\n",
       "      <td>0.000000</td>\n",
       "      <td>36.000000</td>\n",
       "      <td>99.500000</td>\n",
       "      <td>49.000000</td>\n",
       "    </tr>\n",
       "    <tr>\n",
       "      <th>75%</th>\n",
       "      <td>4.000000</td>\n",
       "      <td>1623.922500</td>\n",
       "      <td>23.702218</td>\n",
       "      <td>970.000000</td>\n",
       "      <td>1.000000</td>\n",
       "      <td>78.000000</td>\n",
       "      <td>257.000000</td>\n",
       "      <td>137.000000</td>\n",
       "    </tr>\n",
       "    <tr>\n",
       "      <th>max</th>\n",
       "      <td>178.000000</td>\n",
       "      <td>279489.020000</td>\n",
       "      <td>3861.000000</td>\n",
       "      <td>196719.000000</td>\n",
       "      <td>226.000000</td>\n",
       "      <td>1794.000000</td>\n",
       "      <td>373.000000</td>\n",
       "      <td>373.000000</td>\n",
       "    </tr>\n",
       "  </tbody>\n",
       "</table>\n",
       "</div>"
      ],
      "text/plain": [
       "       TotalOrders     TotalSpent  AverageSpent    ItemsBought  \\\n",
       "count  4330.000000    4330.000000   4330.000000    4330.000000   \n",
       "mean      3.097229    1914.953479     31.223864    1130.338799   \n",
       "std       6.725555    8255.262801    104.820883    4694.211036   \n",
       "min     -99.000000       0.000000      0.000000    -189.000000   \n",
       "25%       1.000000     299.395000     11.404790     156.250000   \n",
       "50%       2.000000     652.570000     17.015341     369.500000   \n",
       "75%       4.000000    1623.922500     23.702218     970.000000   \n",
       "max     178.000000  279489.020000   3861.000000  196719.000000   \n",
       "\n",
       "       CanceledInvoices  ProductDiversity     LifeTime      Recency  \n",
       "count       4330.000000       4330.000000  4330.000000  4330.000000  \n",
       "mean           2.012471         61.760277   134.336259    89.347806  \n",
       "std            7.334740         85.653043   132.902648    99.125094  \n",
       "min            0.000000          1.000000     0.000000     0.000000  \n",
       "25%            0.000000         16.000000     0.000000    16.000000  \n",
       "50%            0.000000         36.000000    99.500000    49.000000  \n",
       "75%            1.000000         78.000000   257.000000   137.000000  \n",
       "max          226.000000       1794.000000   373.000000   373.000000  "
      ]
     },
     "execution_count": 8,
     "metadata": {},
     "output_type": "execute_result"
    }
   ],
   "source": [
    "df.describe()"
   ]
  },
  {
   "cell_type": "code",
   "execution_count": 9,
   "metadata": {},
   "outputs": [
    {
     "name": "stdout",
     "output_type": "stream",
     "text": [
      "Number of unique customers:  4372\n"
     ]
    },
    {
     "name": "stdout",
     "output_type": "stream",
     "text": [
      "Number of unique countries:  37\n",
      "Number of unique products:  3684\n"
     ]
    }
   ],
   "source": [
    "print(\"Number of unique customers: \", invioce_df[\"CustomerID\"].nunique())\n",
    "print(\"Number of unique countries: \", invioce_df[\"Country\"].nunique())\n",
    "print(\"Number of unique products: \", invioce_df[\"StockCode\"].nunique())"
   ]
  },
  {
   "cell_type": "code",
   "execution_count": 10,
   "metadata": {},
   "outputs": [
    {
     "name": "stdout",
     "output_type": "stream",
     "text": [
      "Toal revenue: 8278519.42 Dollars\n"
     ]
    }
   ],
   "source": [
    "print(\"Toal revenue:\", round(invioce_df[\"TotalPrice\"].sum(), 2), \"Dollars\")"
   ]
  },
  {
   "cell_type": "code",
   "execution_count": 11,
   "metadata": {},
   "outputs": [
    {
     "name": "stdout",
     "output_type": "stream",
     "text": [
      "Most selling product is 85123A, which is 'WHITE HANGING HEART T-LIGHT HOLDER'\n",
      "It represents 1.13% of the total revenue\n"
     ]
    }
   ],
   "source": [
    "print(\n",
    "    f\"Most selling product is {invioce_df['StockCode'].mode()[0]}, which is '{invioce_df['Description'].mode()[0]}'\"\n",
    ")\n",
    "\n",
    "percentage = (\n",
    "    invioce_df[invioce_df[\"StockCode\"] == \"85123A\"][\"TotalPrice\"].sum()\n",
    "    / invioce_df[\"TotalPrice\"].sum()\n",
    ") * 100\n",
    "\n",
    "print(f\"It represents {percentage:.2f}% of the total revenue\")"
   ]
  },
  {
   "cell_type": "code",
   "execution_count": 12,
   "metadata": {},
   "outputs": [
    {
     "name": "stdout",
     "output_type": "stream",
     "text": [
      "The average CLV is 1914.95 Dollars\n",
      "The median CLV is 652.57 Dollars\n"
     ]
    }
   ],
   "source": [
    "print(f\"The average CLV is {df['TotalSpent'].mean():.2f} Dollars\")\n",
    "print(f\"The median CLV is {df['TotalSpent'].median():.2f} Dollars\")"
   ]
  },
  {
   "cell_type": "code",
   "execution_count": 13,
   "metadata": {},
   "outputs": [
    {
     "name": "stdout",
     "output_type": "stream",
     "text": [
      "The average number of orders per customer per life time is 3.10\n",
      "The median number of orders per customer per life time is 2.00\n"
     ]
    }
   ],
   "source": [
    "print(\n",
    "    f\"The average number of orders per customer per life time is {df['TotalOrders'].mean():.2f}\"\n",
    ")\n",
    "print(\n",
    "    f\"The median number of orders per customer per life time is {df['TotalOrders'].median():.2f}\"\n",
    ")"
   ]
  },
  {
   "cell_type": "code",
   "execution_count": 14,
   "metadata": {},
   "outputs": [
    {
     "name": "stdout",
     "output_type": "stream",
     "text": [
      "The average life time of each customer is 134.34 days\n",
      "The median life time of each customer is 99.50 days\n"
     ]
    }
   ],
   "source": [
    "print(f\"The average life time of each customer is {df['LifeTime'].mean():.2f} days\")\n",
    "print(f\"The median life time of each customer is {df['LifeTime'].median():.2f} days\")"
   ]
  },
  {
   "cell_type": "code",
   "execution_count": 15,
   "metadata": {},
   "outputs": [
    {
     "name": "stdout",
     "output_type": "stream",
     "text": [
      "The average Recency of each customer is 89.35 days\n",
      "The median Recency of each customer is 49.00 days\n"
     ]
    }
   ],
   "source": [
    "print(f\"The average Recency of each customer is {df['Recency'].mean():.2f} days\")\n",
    "print(f\"The median Recency of each customer is {df['Recency'].median():.2f} days\")"
   ]
  },
  {
   "cell_type": "code",
   "execution_count": 16,
   "metadata": {},
   "outputs": [
    {
     "data": {
      "image/png": "[encoded data removed]",
      "text/plain": [
       "<Figure size 1000x600 with 1 Axes>"
      ]
     },
     "metadata": {},
     "output_type": "display_data"
    }
   ],
   "source": [
    "plt.figure(figsize=(10, 6))\n",
    "\n",
    "data = df[\"Country\"].value_counts(ascending=True)\n",
    "\n",
    "plt.barh(data.index, data.values, color=colors)\n",
    "plt.title(\"Number of customers in each country\", size=20)\n",
    "plt.xlabel(\"Counts\", size=15)\n",
    "plt.ylabel(\"Country\", size=15);"
   ]
  },
  {
   "cell_type": "markdown",
   "metadata": {},
   "source": [
    "This was expected as the stores are already based in the UK"
   ]
  },
  {
   "cell_type": "code",
   "execution_count": 17,
   "metadata": {},
   "outputs": [
    {
     "data": {
      "text/html": [
       "<div>\n",
       "<style scoped>\n",
       "    .dataframe tbody tr th:only-of-type {\n",
       "        vertical-align: middle;\n",
       "    }\n",
       "\n",
       "    .dataframe tbody tr th {\n",
       "        vertical-align: top;\n",
       "    }\n",
       "\n",
       "    .dataframe thead tr th {\n",
       "        text-align: left;\n",
       "    }\n",
       "\n",
       "    .dataframe thead tr:last-of-type th {\n",
       "        text-align: right;\n",
       "    }\n",
       "</style>\n",
       "<table border=\"1\" class=\"dataframe\">\n",
       "  <thead>\n",
       "    <tr>\n",
       "      <th></th>\n",
       "      <th colspan=\"2\" halign=\"left\">TotalPrice</th>\n",
       "    </tr>\n",
       "    <tr>\n",
       "      <th></th>\n",
       "      <th>sum</th>\n",
       "      <th>mean</th>\n",
       "    </tr>\n",
       "    <tr>\n",
       "      <th>DayOfWeek</th>\n",
       "      <th></th>\n",
       "      <th></th>\n",
       "    </tr>\n",
       "  </thead>\n",
       "  <tbody>\n",
       "    <tr>\n",
       "      <th>Friday</th>\n",
       "      <td>135129.136142</td>\n",
       "      <td>40.264939</td>\n",
       "    </tr>\n",
       "    <tr>\n",
       "      <th>Monday</th>\n",
       "      <td>97083.253308</td>\n",
       "      <td>27.643295</td>\n",
       "    </tr>\n",
       "    <tr>\n",
       "      <th>Sunday</th>\n",
       "      <td>49572.296680</td>\n",
       "      <td>21.166651</td>\n",
       "    </tr>\n",
       "    <tr>\n",
       "      <th>Thursday</th>\n",
       "      <td>173752.136618</td>\n",
       "      <td>34.904005</td>\n",
       "    </tr>\n",
       "    <tr>\n",
       "      <th>Tuesday</th>\n",
       "      <td>160436.047573</td>\n",
       "      <td>41.222006</td>\n",
       "    </tr>\n",
       "    <tr>\n",
       "      <th>Wednesday</th>\n",
       "      <td>147046.370835</td>\n",
       "      <td>35.777706</td>\n",
       "    </tr>\n",
       "  </tbody>\n",
       "</table>\n",
       "</div>"
      ],
      "text/plain": [
       "              TotalPrice           \n",
       "                     sum       mean\n",
       "DayOfWeek                          \n",
       "Friday     135129.136142  40.264939\n",
       "Monday      97083.253308  27.643295\n",
       "Sunday      49572.296680  21.166651\n",
       "Thursday   173752.136618  34.904005\n",
       "Tuesday    160436.047573  41.222006\n",
       "Wednesday  147046.370835  35.777706"
      ]
     },
     "execution_count": 17,
     "metadata": {},
     "output_type": "execute_result"
    }
   ],
   "source": [
    "# Calculate the demands across the week\n",
    "\n",
    "# First group the data by the invoice, as each row doesn't represent a single invoice, but a single product in an invoice\n",
    "grouped_invoices_df = invioce_df.groupby([\"InvoiceNo\"]).agg(\n",
    "    {\"DayOfWeek\": lambda x: x.mode()[0], \"TotalPrice\": \"mean\"}\n",
    ")\n",
    "grouped_week_day = grouped_invoices_df.groupby([\"DayOfWeek\"]).agg(\n",
    "    {\"TotalPrice\": [\"sum\", \"mean\"]}\n",
    ")\n",
    "grouped_week_day"
   ]
  },
  {
   "cell_type": "code",
   "execution_count": 18,
   "metadata": {},
   "outputs": [
    {
     "data": {
      "image/png": "[encoded data removed]",
      "text/plain": [
       "<Figure size 640x480 with 1 Axes>"
      ]
     },
     "metadata": {},
     "output_type": "display_data"
    }
   ],
   "source": [
    "# percentage of cancelation\n",
    "data = invioce_df[\"Canceled\"].value_counts()\n",
    "\n",
    "plt.pie(\n",
    "    data,\n",
    "    labels=[\"Not Canceled\", \"Canceled\"],\n",
    "    autopct=\"%1.1f%%\",\n",
    "    colors=colors,\n",
    "    explode=(0, 0.1),\n",
    ")\n",
    "plt.title(\"Percentage of cancelation\", size=20);"
   ]
  },
  {
   "cell_type": "code",
   "execution_count": 19,
   "metadata": {},
   "outputs": [
    {
     "data": {
      "text/html": [
       "<div>\n",
       "<style scoped>\n",
       "    .dataframe tbody tr th:only-of-type {\n",
       "        vertical-align: middle;\n",
       "    }\n",
       "\n",
       "    .dataframe tbody tr th {\n",
       "        vertical-align: top;\n",
       "    }\n",
       "\n",
       "    .dataframe thead tr th {\n",
       "        text-align: left;\n",
       "    }\n",
       "\n",
       "    .dataframe thead tr:last-of-type th {\n",
       "        text-align: right;\n",
       "    }\n",
       "</style>\n",
       "<table border=\"1\" class=\"dataframe\">\n",
       "  <thead>\n",
       "    <tr>\n",
       "      <th></th>\n",
       "      <th>TotalPrice</th>\n",
       "    </tr>\n",
       "    <tr>\n",
       "      <th></th>\n",
       "      <th>sum</th>\n",
       "    </tr>\n",
       "    <tr>\n",
       "      <th>Hour</th>\n",
       "      <th></th>\n",
       "    </tr>\n",
       "  </thead>\n",
       "  <tbody>\n",
       "    <tr>\n",
       "      <th>10</th>\n",
       "      <td>120456.291318</td>\n",
       "    </tr>\n",
       "    <tr>\n",
       "      <th>11</th>\n",
       "      <td>103752.831510</td>\n",
       "    </tr>\n",
       "    <tr>\n",
       "      <th>12</th>\n",
       "      <td>131318.797682</td>\n",
       "    </tr>\n",
       "    <tr>\n",
       "      <th>13</th>\n",
       "      <td>101223.678724</td>\n",
       "    </tr>\n",
       "    <tr>\n",
       "      <th>14</th>\n",
       "      <td>61673.394470</td>\n",
       "    </tr>\n",
       "    <tr>\n",
       "      <th>15</th>\n",
       "      <td>74481.005194</td>\n",
       "    </tr>\n",
       "    <tr>\n",
       "      <th>16</th>\n",
       "      <td>48239.837749</td>\n",
       "    </tr>\n",
       "    <tr>\n",
       "      <th>17</th>\n",
       "      <td>8773.936141</td>\n",
       "    </tr>\n",
       "    <tr>\n",
       "      <th>18</th>\n",
       "      <td>11816.945245</td>\n",
       "    </tr>\n",
       "    <tr>\n",
       "      <th>19</th>\n",
       "      <td>2211.563908</td>\n",
       "    </tr>\n",
       "    <tr>\n",
       "      <th>20</th>\n",
       "      <td>394.782454</td>\n",
       "    </tr>\n",
       "    <tr>\n",
       "      <th>6</th>\n",
       "      <td>-359.491667</td>\n",
       "    </tr>\n",
       "    <tr>\n",
       "      <th>7</th>\n",
       "      <td>4251.639382</td>\n",
       "    </tr>\n",
       "    <tr>\n",
       "      <th>8</th>\n",
       "      <td>26381.033785</td>\n",
       "    </tr>\n",
       "    <tr>\n",
       "      <th>9</th>\n",
       "      <td>68402.995261</td>\n",
       "    </tr>\n",
       "  </tbody>\n",
       "</table>\n",
       "</div>"
      ],
      "text/plain": [
       "         TotalPrice\n",
       "                sum\n",
       "Hour               \n",
       "10    120456.291318\n",
       "11    103752.831510\n",
       "12    131318.797682\n",
       "13    101223.678724\n",
       "14     61673.394470\n",
       "15     74481.005194\n",
       "16     48239.837749\n",
       "17      8773.936141\n",
       "18     11816.945245\n",
       "19      2211.563908\n",
       "20       394.782454\n",
       "6       -359.491667\n",
       "7       4251.639382\n",
       "8      26381.033785\n",
       "9      68402.995261"
      ]
     },
     "execution_count": 19,
     "metadata": {},
     "output_type": "execute_result"
    }
   ],
   "source": [
    "# Calculate the demands across Hours\n",
    "\n",
    "# First group the data by the invoice, as each row doesn't represent a single invoice, but a single product in an invoice\n",
    "grouped_invoices_df = invioce_df.groupby([\"InvoiceNo\"]).agg(\n",
    "    {\"Hour\": lambda x: x.mode()[0], \"TotalPrice\": \"mean\"}\n",
    ")\n",
    "grouped_hour = grouped_invoices_df.groupby([\"Hour\"]).agg({\"TotalPrice\": [\"sum\"]})\n",
    "grouped_hour"
   ]
  },
  {
   "cell_type": "markdown",
   "metadata": {},
   "source": [
    "## Analysis"
   ]
  },
  {
   "cell_type": "markdown",
   "metadata": {},
   "source": []
  }
 ],
 "metadata": {
  "kernelspec": {
   "display_name": "data3_12",
   "language": "python",
   "name": "python3"
  },
  "language_info": {
   "codemirror_mode": {
    "name": "ipython",
    "version": 3
   },
   "file_extension": ".py",
   "mimetype": "text/x-python",
   "name": "python",
   "nbconvert_exporter": "python",
   "pygments_lexer": "ipython3",
   "version": "3.12.8"
  }
 },
 "nbformat": 4,
 "nbformat_minor": 2
}
